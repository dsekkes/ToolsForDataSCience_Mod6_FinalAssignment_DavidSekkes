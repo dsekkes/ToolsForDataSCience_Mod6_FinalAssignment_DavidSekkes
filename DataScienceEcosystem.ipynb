{
 "cells": [
  {
   "cell_type": "markdown",
   "id": "0092bfdf-15d6-4854-8ab2-3369d3988473",
   "metadata": {},
   "source": [
    "# Data Science Tools and Ecosystem"
   ]
  },
  {
   "cell_type": "markdown",
   "id": "a0dec480-2680-4308-8512-7fd49616d24f",
   "metadata": {},
   "source": [
    "This notebook will demostrate data science tools and ecosystems."
   ]
  },
  {
   "cell_type": "markdown",
   "id": "f507d8bc-71a8-4351-a640-67d1e58b630a",
   "metadata": {},
   "source": [
    "**Objectives:**\n",
    "- List popular programming languages\n",
    "- list popular data libraries\n",
    "- List open source data science tools"
   ]
  },
  {
   "cell_type": "markdown",
   "id": "0e4bf3c6-8b88-412e-ae52-e76b96e059ed",
   "metadata": {},
   "source": [
    "Some popular data science programming languages are:\n",
    "- Python\n",
    "- R\n",
    "- Julia\n",
    "- SQL\n"
   ]
  },
  {
   "cell_type": "markdown",
   "id": "2b1df2cd-8736-4046-94d5-cb10559fef53",
   "metadata": {},
   "source": [
    "Some popular data libraries for data science are:\n",
    "1. pandas\n",
    "2. numpy\n",
    "2. matplotlib"
   ]
  },
  {
   "cell_type": "markdown",
   "id": "099d5d5d-1d4e-496d-876f-70b3e5bd541c",
   "metadata": {},
   "source": [
    "| Data Science Tools |\n",
    "| --- |\n",
    "| Jupyter |\n",
    "| R Studio |\n",
    "| VS Code |"
   ]
  },
  {
   "cell_type": "markdown",
   "id": "7bda799a-4ae8-4a94-891c-d4906295430d",
   "metadata": {},
   "source": [
    "### Below are a few examples of evaluating arithmetic expressions in Python"
   ]
  },
  {
   "cell_type": "code",
   "execution_count": 34,
   "id": "ff364e74-c699-4253-9c13-ad197f938929",
   "metadata": {},
   "outputs": [
    {
     "data": {
      "text/plain": [
       "17"
      ]
     },
     "execution_count": 34,
     "metadata": {},
     "output_type": "execute_result"
    }
   ],
   "source": [
    "# This a simple arithmetic expression to mutiply then add integers\n",
    "(3*4)+5\n"
   ]
  },
  {
   "cell_type": "code",
   "execution_count": 68,
   "id": "ea6ecd16-9b98-44f9-be34-d0857b4819ce",
   "metadata": {},
   "outputs": [
    {
     "name": "stdout",
     "output_type": "stream",
     "text": [
      "200 min is equal to 3.33 hours\n"
     ]
    }
   ],
   "source": [
    "# This will convert 200 minutes to hours by diving by 60\n",
    "\n",
    "minutes = 200\n",
    "hours = minutes/60\n",
    "\n",
    "print(str(minutes) + \" min is equal to \" + str(round(hours,2)) + \" hours\")\n",
    "\n",
    "\n"
   ]
  },
  {
   "cell_type": "markdown",
   "id": "44fd1537-3c91-4954-8f22-7e8dbd61b6aa",
   "metadata": {},
   "source": [
    "## Author:\n",
    "David Sekkes"
   ]
  },
  {
   "cell_type": "code",
   "execution_count": null,
   "id": "30d2f508-c669-49f7-a938-066746ea2016",
   "metadata": {},
   "outputs": [],
   "source": []
  }
 ],
 "metadata": {
  "kernelspec": {
   "display_name": "Python 3 (ipykernel)",
   "language": "python",
   "name": "python3"
  },
  "language_info": {
   "codemirror_mode": {
    "name": "ipython",
    "version": 3
   },
   "file_extension": ".py",
   "mimetype": "text/x-python",
   "name": "python",
   "nbconvert_exporter": "python",
   "pygments_lexer": "ipython3",
   "version": "3.12.7"
  }
 },
 "nbformat": 4,
 "nbformat_minor": 5
}
